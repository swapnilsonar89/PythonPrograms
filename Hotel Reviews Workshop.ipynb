{
 "cells": [
  {
   "cell_type": "code",
   "execution_count": 1,
   "metadata": {
    "colab": {
     "autoexec": {
      "startup": false,
      "wait_interval": 0
     }
    },
    "colab_type": "code",
    "id": "Hm_ee1EnqmGs"
   },
   "outputs": [],
   "source": [
    "import pandas as pd\n",
    "import numpy as np\n",
    "import matplotlib.pyplot as plt\n",
    "import scipy\n",
    "import sklearn\n",
    "import seaborn as sns\n",
    "import re\n",
    "import sklearn\n",
    "import seaborn as sns\n",
    "import re\n",
    "from collections import Counter\n",
    "%matplotlib inline"
   ]
  },
  {
   "cell_type": "markdown",
   "metadata": {
    "colab_type": "text",
    "id": "H3xOM-QJz6s1"
   },
   "source": [
    "# Hotel Review Workshop Notebook\n",
    "\n",
    "This notebook will guide you through the creation of a simple bag of words model for text matching."
   ]
  },
  {
   "cell_type": "code",
   "execution_count": 2,
   "metadata": {
    "colab": {
     "autoexec": {
      "startup": false,
      "wait_interval": 0
     }
    },
    "colab_type": "code",
    "id": "YbLv_WYBqm3b"
   },
   "outputs": [],
   "source": [
    "# Import the Data Set\n",
    "data = pd.read_csv('https://github.com/Thinkful-Ed/data-201-resources/raw/master/hotel-reviews.csv')"
   ]
  },
  {
   "cell_type": "code",
   "execution_count": 3,
   "metadata": {
    "colab": {
     "autoexec": {
      "startup": false,
      "wait_interval": 0
     }
    },
    "colab_type": "code",
    "id": "Rrh7xPRKquCf"
   },
   "outputs": [],
   "source": [
    "# Perform some basic cleaning and character removal\n",
    "\n",
    "# Make everything lower case\n",
    "data['reviews.text'] = data['reviews.text'].str.lower()\n",
    "\n",
    "# Remove non-text characters\n",
    "data['reviews.text'] = data['reviews.text'].str.replace(r'\\.|\\!|\\?|\\'|,|-|\\(|\\)', \"\",)\n",
    "\n",
    "# Fill in black reviews with '' rather than Null (which would give us errors)\n",
    "data['reviews.text'] = data['reviews.text'].fillna('')"
   ]
  },
  {
   "cell_type": "code",
   "execution_count": 4,
   "metadata": {
    "colab": {
     "autoexec": {
      "startup": false,
      "wait_interval": 0
     }
    },
    "colab_type": "code",
    "id": "fpS7eoZQq8vs"
   },
   "outputs": [],
   "source": [
    "# Import and initiate a vectorizer\n",
    "from sklearn.feature_extraction.text import CountVectorizer\n",
    "# The max features is how many words we want to allow us to create columns for\n",
    "vectorizer = CountVectorizer(max_features=5000)"
   ]
  },
  {
   "cell_type": "code",
   "execution_count": 5,
   "metadata": {
    "colab": {
     "autoexec": {
      "startup": false,
      "wait_interval": 0
     }
    },
    "colab_type": "code",
    "id": "z6ScHo2KrBhw"
   },
   "outputs": [],
   "source": [
    "# Vectorize our reviews to transform sentences into volumns\n",
    "X = vectorizer.fit_transform(data['reviews.text'])\n",
    "\n",
    "# And then put all of that in a table\n",
    "bag_of_words = pd.DataFrame(X.toarray(), columns=vectorizer.get_feature_names())"
   ]
  },
  {
   "cell_type": "code",
   "execution_count": 6,
   "metadata": {
    "colab": {
     "autoexec": {
      "startup": false,
      "wait_interval": 0
     }
    },
    "colab_type": "code",
    "id": "ceol8A1jrD9f"
   },
   "outputs": [],
   "source": [
    "# Rename some columns for clarity\n",
    "data.rename(columns={'address': 'hotel_address', 'city': 'hotel_city',\n",
    "                     'country':'hotel_country', 'name':'hotel_name'},\n",
    "            inplace=True)\n",
    "\n",
    "# Join our bag of words back to our initial hotel data\n",
    "full_df = data.join(bag_of_words)"
   ]
  },
  {
   "cell_type": "code",
   "execution_count": 7,
   "metadata": {
    "colab": {
     "autoexec": {
      "startup": false,
      "wait_interval": 0
     }
    },
    "colab_type": "code",
    "id": "qvVz1w12rHTx"
   },
   "outputs": [],
   "source": [
    "# X is our words\n",
    "X = bag_of_words\n",
    "\n",
    "# Y is our hotel name (the outcome we care about)\n",
    "Y_hotel = data['hotel_name']"
   ]
  },
  {
   "cell_type": "code",
   "execution_count": 8,
   "metadata": {
    "colab": {
     "autoexec": {
      "startup": false,
      "wait_interval": 0
     },
     "base_uri": "https://localhost:8080/",
     "height": 119,
     "output_extras": [
      {
       "item_id": 1
      }
     ]
    },
    "colab_type": "code",
    "executionInfo": {
     "elapsed": 84432,
     "status": "ok",
     "timestamp": 1511293899055,
     "user": {
      "displayName": "Alexander Nussbacher",
      "photoUrl": "https://lh3.googleusercontent.com/a/default-user=s128",
      "userId": "110933317328156177991"
     },
     "user_tz": 360
    },
    "id": "shyH_YsbrI2e",
    "outputId": "7c63b9ae-8430-4b50-e8dc-2425d9ed8198"
   },
   "outputs": [
    {
     "data": {
      "text/plain": [
       "RandomForestClassifier(bootstrap=True, class_weight=None, criterion='gini',\n",
       "            max_depth=None, max_features='auto', max_leaf_nodes=None,\n",
       "            min_impurity_decrease=0.0, min_impurity_split=None,\n",
       "            min_samples_leaf=1, min_samples_split=2,\n",
       "            min_weight_fraction_leaf=0.0, n_estimators=10, n_jobs=1,\n",
       "            oob_score=False, random_state=None, verbose=0,\n",
       "            warm_start=False)"
      ]
     },
     "execution_count": 8,
     "metadata": {},
     "output_type": "execute_result"
    }
   ],
   "source": [
    "# Import a random forest model\n",
    "from sklearn.ensemble import RandomForestClassifier\n",
    "rfc = RandomForestClassifier()\n",
    "\n",
    "# Fit that random forest model to our data\n",
    "rfc.fit(X,Y_hotel)"
   ]
  },
  {
   "cell_type": "markdown",
   "metadata": {
    "colab_type": "text",
    "id": "1arYoL8tI36l"
   },
   "source": [
    "# If you want to run a different test review, start from here."
   ]
  },
  {
   "cell_type": "code",
   "execution_count": 9,
   "metadata": {
    "colab": {
     "autoexec": {
      "startup": false,
      "wait_interval": 0
     }
    },
    "colab_type": "code",
    "id": "cZwwDcZ6rJ67"
   },
   "outputs": [],
   "source": [
    "# Write your own dream vacation review here...\n",
    "test_review = ['''\n",
    "    I loved the beach and the sunshine and the clean and modern room.\n",
    "    ''']"
   ]
  },
  {
   "cell_type": "code",
   "execution_count": 10,
   "metadata": {
    "colab": {
     "autoexec": {
      "startup": false,
      "wait_interval": 0
     }
    },
    "colab_type": "code",
    "id": "vAyiSlugrMUV"
   },
   "outputs": [],
   "source": [
    "# Convert your test review into a vector\n",
    "X_test = vectorizer.transform(test_review).toarray()"
   ]
  },
  {
   "cell_type": "code",
   "execution_count": 11,
   "metadata": {
    "colab": {
     "autoexec": {
      "startup": false,
      "wait_interval": 0
     }
    },
    "colab_type": "code",
    "id": "hBNMgkfWrM3j"
   },
   "outputs": [],
   "source": [
    "# Match your review\n",
    "prediction = rfc.predict(X_test)[0]"
   ]
  },
  {
   "cell_type": "code",
   "execution_count": 12,
   "metadata": {
    "colab": {
     "autoexec": {
      "startup": false,
      "wait_interval": 0
     },
     "base_uri": "https://localhost:8080/",
     "height": 80,
     "output_extras": [
      {
       "item_id": 1
      }
     ]
    },
    "colab_type": "code",
    "executionInfo": {
     "elapsed": 234,
     "status": "ok",
     "timestamp": 1511293900331,
     "user": {
      "displayName": "Alexander Nussbacher",
      "photoUrl": "https://lh3.googleusercontent.com/a/default-user=s128",
      "userId": "110933317328156177991"
     },
     "user_tz": 360
    },
    "id": "1KZPXlHPrN-y",
    "outputId": "aadfc75f-f367-47e7-f32e-ac6a4f3e5196"
   },
   "outputs": [
    {
     "data": {
      "text/html": [
       "<div>\n",
       "<style scoped>\n",
       "    .dataframe tbody tr th:only-of-type {\n",
       "        vertical-align: middle;\n",
       "    }\n",
       "\n",
       "    .dataframe tbody tr th {\n",
       "        vertical-align: top;\n",
       "    }\n",
       "\n",
       "    .dataframe thead th {\n",
       "        text-align: right;\n",
       "    }\n",
       "</style>\n",
       "<table border=\"1\" class=\"dataframe\">\n",
       "  <thead>\n",
       "    <tr style=\"text-align: right;\">\n",
       "      <th></th>\n",
       "      <th>hotel_name</th>\n",
       "      <th>hotel_address</th>\n",
       "      <th>hotel_city</th>\n",
       "      <th>hotel_country</th>\n",
       "    </tr>\n",
       "  </thead>\n",
       "  <tbody>\n",
       "    <tr>\n",
       "      <th>14164</th>\n",
       "      <td>Arion</td>\n",
       "      <td>40 Apollonos St</td>\n",
       "      <td>Ramey</td>\n",
       "      <td>US</td>\n",
       "    </tr>\n",
       "  </tbody>\n",
       "</table>\n",
       "</div>"
      ],
      "text/plain": [
       "      hotel_name    hotel_address hotel_city hotel_country\n",
       "14164      Arion  40 Apollonos St      Ramey            US"
      ]
     },
     "execution_count": 12,
     "metadata": {},
     "output_type": "execute_result"
    }
   ],
   "source": [
    "# Return the essential information about your match\n",
    "data[data['hotel_name'] == prediction][['hotel_name', 'hotel_address', \n",
    "                                        'hotel_city', 'hotel_country']].head(1)"
   ]
  },
  {
   "cell_type": "code",
   "execution_count": 0,
   "metadata": {
    "colab": {
     "autoexec": {
      "startup": false,
      "wait_interval": 0
     }
    },
    "colab_type": "code",
    "id": "XvzNF0Gsswfg"
   },
   "outputs": [],
   "source": []
  }
 ],
 "metadata": {
  "colab": {
   "collapsed_sections": [],
   "default_view": {},
   "name": "Hotel Reviews Workshop.ipynb",
   "provenance": [],
   "version": "0.3.2",
   "views": {}
  },
  "kernelspec": {
   "display_name": "Python 3",
   "language": "python",
   "name": "python3"
  },
  "language_info": {
   "codemirror_mode": {
    "name": "ipython",
    "version": 3
   },
   "file_extension": ".py",
   "mimetype": "text/x-python",
   "name": "python",
   "nbconvert_exporter": "python",
   "pygments_lexer": "ipython3",
   "version": "3.6.5"
  }
 },
 "nbformat": 4,
 "nbformat_minor": 1
}
